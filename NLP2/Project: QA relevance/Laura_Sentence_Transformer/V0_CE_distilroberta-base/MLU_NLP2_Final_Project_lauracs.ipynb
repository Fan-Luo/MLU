{
 "cells": [
  {
   "cell_type": "markdown",
   "id": "d9c31cc2",
   "metadata": {},
   "source": [
    "![MLU Logo](../images/MLU_Logo.png)"
   ]
  },
  {
   "cell_type": "markdown",
   "id": "a4176840",
   "metadata": {},
   "source": [
    "# MLU-NLP2 Final Project"
   ]
  },
  {
   "cell_type": "markdown",
   "id": "f08e3c03",
   "metadata": {},
   "source": [
    "## Problem Statement\n",
    "The project focuses on answer selection and uses the WikiQA dataset. Each record in the dataset has a question, answer and relevance score. The relevance score is binary, 1/0 indicating whether the answer is relevant to the question. \n",
    "\n",
    "Each question can be repeated multiple times and can have multiple relevant answer statements. \n",
    "\n",
    "To make the problem less complex, we have considered only questions which have at least 1 relevant answer. This simplification results in train, validation and test datasets with 873, 126 and 243 questions respectively.\n",
    "\n",
    "## Project Objective\n",
    "\n",
    "In this notebook, you will start our jorney. It contains a baseline model that will give you a first performance score and ourse and all code necessary ready for your first submission.\n",
    "\n",
    "__IMPORTANT__ \n",
    "\n",
    "Make sure you submit this notebook to get to know better how Leaderboard works and, also, make sure your completion will be granted :) .\n",
    "\n",
    "### __Dataset:__\n",
    "The originial train and test datasets have questions for which there are no answers with relevance 1. To make the problem simpler, we have considered only questions which have atleast 1 answer with relevance score 1. This updated version of the datasets are used in the project\n",
    "\n",
    "### __Table of Contents__\n",
    "Here is the plan for this assignment.\n",
    "<p>\n",
    "<div class=\"lev1\">\n",
    "    <a href=\"#Reading the dataset\"><span class=\"toc-item-num\">1&nbsp;&nbsp;</span>\n",
    "        Reading the dataset\n",
    "    </a>\n",
    "</div>\n",
    "<div class=\"lev1\">\n",
    "    <a href=\"#Data-Preparation\"><span class=\"toc-item-num\">2&nbsp;&nbsp;</span>\n",
    "        Data Preparation\n",
    "    </a>\n",
    "</div>\n",
    "<div class=\"lev1\">\n",
    "    <a href=\"#Model-Building\"><span class=\"toc-item-num\">3&nbsp;&nbsp;</span>\n",
    "        Model Building\n",
    "    </a>\n",
    "</div>\n",
    "<div class=\"lev1\">\n",
    "    <a href=\"#Training\"><span class=\"toc-item-num\">4&nbsp;&nbsp;</span>\n",
    "        Training\n",
    "    </a>\n",
    "</div>\n",
    "<div class=\"lev1\">\n",
    "    <a href=\"#Prediction\"><span class=\"toc-item-num\">5&nbsp;&nbsp;</span>\n",
    "        Prediction\n",
    "    </a>\n",
    "</div>\n",
    "<div class=\"lev1\">\n",
    "    <a href=\"#Submit-Results\"><span class=\"toc-item-num\">6&nbsp;&nbsp;</span>\n",
    "        Submit Results\n",
    "    </a>\n",
    "</div>"
   ]
  },
  {
   "cell_type": "code",
   "execution_count": null,
   "id": "bcc807f5",
   "metadata": {},
   "outputs": [],
   "source": [
    "#!pip install -U sentence-transformers\n"
   ]
  },
  {
   "cell_type": "code",
   "execution_count": 2,
   "id": "adc3e286",
   "metadata": {},
   "outputs": [
    {
     "name": "stderr",
     "output_type": "stream",
     "text": [
      "[nltk_data] Downloading package punkt to /home/ec2-user/nltk_data...\n",
      "[nltk_data]   Unzipping tokenizers/punkt.zip.\n"
     ]
    },
    {
     "data": {
      "text/plain": [
       "True"
      ]
     },
     "execution_count": 2,
     "metadata": {},
     "output_type": "execute_result"
    }
   ],
   "source": [
    "import pandas as pd\n",
    "import boto3\n",
    "import os\n",
    "import numpy as np\n",
    "import torch\n",
    "from torch import nn\n",
    "from sklearn.metrics import f1_score\n",
    "from tqdm import tqdm, tqdm_notebook\n",
    "# import torchtext\n",
    "from nltk import word_tokenize\n",
    "import random\n",
    "from torch import optim\n",
    "import nltk\n",
    "nltk.download('punkt')"
   ]
  },
  {
   "cell_type": "markdown",
   "id": "6b5004d7",
   "metadata": {},
   "source": [
    "### Reading the dataset\n",
    "The datasets are in our MLU datalake and can be downloaded to your local instance here"
   ]
  },
  {
   "cell_type": "code",
   "execution_count": 3,
   "id": "eb995e79",
   "metadata": {},
   "outputs": [],
   "source": [
    "# import the datasets\n",
    "bucketname = 'mlu-courses-datalake' \n",
    "s3 = boto3.resource('s3')\n",
    "\n",
    "s3.Bucket(bucketname).download_file('NLP2/data/training.csv', \n",
    "                                         './training.csv') \n",
    "s3.Bucket(bucketname).download_file('NLP2/data/public_test_features.csv', \n",
    "                                         './public_test_features.csv')\n",
    "s3.Bucket(bucketname).download_file('NLP2/data/glove.6B.100d.txt', \n",
    "                                         './glove.6B.100d.txt')"
   ]
  },
  {
   "cell_type": "code",
   "execution_count": 4,
   "id": "7bb41b2d",
   "metadata": {},
   "outputs": [],
   "source": [
    "TRAIN_DATA_FILE ='./training.csv'\n",
    "TEST_DATA_FILE = './public_test_features.csv'\n",
    "GLOVE_DATA_FILE = './glove.6B.100d.txt'"
   ]
  },
  {
   "cell_type": "markdown",
   "id": "fd12f8df",
   "metadata": {},
   "source": [
    "Below, we are combining question and answer in each row as 1 single text column for simplicity. Alternatively, we can run two parallel networks for question and answer, merge the output of the 2 networks and have a classification layer as output. You may choose to save the files for ease of use, in future steps."
   ]
  },
  {
   "cell_type": "code",
   "execution_count": 11,
   "id": "196af45f",
   "metadata": {},
   "outputs": [],
   "source": [
    "train_original=pd.read_csv(TRAIN_DATA_FILE)\n",
    "train_original=train_original.rename(columns={'relevance':'label'}) \n",
    "train = train_original.iloc[:5500,:]\n",
    "dev = train_original.iloc[5500:,:]\n",
    "\n",
    "# train['text']=train[['question','answer']].apply(lambda row: '_'.join(row.values.astype(str)), axis=1)\n",
    "# test['text']=test[['question','answer']].apply(lambda row: '_'.join(row.values.astype(str)), axis=1)"
   ]
  },
  {
   "cell_type": "code",
   "execution_count": 12,
   "id": "3e1f8d7d",
   "metadata": {},
   "outputs": [
    {
     "data": {
      "text/html": [
       "<div>\n",
       "<style scoped>\n",
       "    .dataframe tbody tr th:only-of-type {\n",
       "        vertical-align: middle;\n",
       "    }\n",
       "\n",
       "    .dataframe tbody tr th {\n",
       "        vertical-align: top;\n",
       "    }\n",
       "\n",
       "    .dataframe thead th {\n",
       "        text-align: right;\n",
       "    }\n",
       "</style>\n",
       "<table border=\"1\" class=\"dataframe\">\n",
       "  <thead>\n",
       "    <tr style=\"text-align: right;\">\n",
       "      <th></th>\n",
       "      <th>ID</th>\n",
       "      <th>question</th>\n",
       "      <th>answer</th>\n",
       "      <th>label</th>\n",
       "    </tr>\n",
       "  </thead>\n",
       "  <tbody>\n",
       "    <tr>\n",
       "      <th>0</th>\n",
       "      <td>2788</td>\n",
       "      <td>who kill franz ferdinand ww1</td>\n",
       "      <td>A plaque commemorating the location of the Sar...</td>\n",
       "      <td>0</td>\n",
       "    </tr>\n",
       "    <tr>\n",
       "      <th>1</th>\n",
       "      <td>8166</td>\n",
       "      <td>what is a medallion guarantee</td>\n",
       "      <td>Sample of a Medallion signature guarantee stampIn</td>\n",
       "      <td>0</td>\n",
       "    </tr>\n",
       "    <tr>\n",
       "      <th>2</th>\n",
       "      <td>4289</td>\n",
       "      <td>what does a vote to table a motion mean ?</td>\n",
       "      <td>The difference is the idea of what the table i...</td>\n",
       "      <td>0</td>\n",
       "    </tr>\n",
       "    <tr>\n",
       "      <th>3</th>\n",
       "      <td>8180</td>\n",
       "      <td>when was the lady gaga judas song released</td>\n",
       "      <td>`` Judas '' is a song by American recording ar...</td>\n",
       "      <td>1</td>\n",
       "    </tr>\n",
       "    <tr>\n",
       "      <th>4</th>\n",
       "      <td>725</td>\n",
       "      <td>How did Edgar Allan Poe die ?</td>\n",
       "      <td>His work forced him to move among several citi...</td>\n",
       "      <td>0</td>\n",
       "    </tr>\n",
       "    <tr>\n",
       "      <th>...</th>\n",
       "      <td>...</td>\n",
       "      <td>...</td>\n",
       "      <td>...</td>\n",
       "      <td>...</td>\n",
       "    </tr>\n",
       "    <tr>\n",
       "      <th>5495</th>\n",
       "      <td>9015</td>\n",
       "      <td>what are the arb medications</td>\n",
       "      <td>Arbitron , a radio audience research company</td>\n",
       "      <td>0</td>\n",
       "    </tr>\n",
       "    <tr>\n",
       "      <th>5496</th>\n",
       "      <td>340</td>\n",
       "      <td>when was everybody hates chris made</td>\n",
       "      <td>The show is set between 1983 and 1987 ; howeve...</td>\n",
       "      <td>0</td>\n",
       "    </tr>\n",
       "    <tr>\n",
       "      <th>5497</th>\n",
       "      <td>3596</td>\n",
       "      <td>what is a lapping machine</td>\n",
       "      <td>Taken to a finer limit , this will produce a p...</td>\n",
       "      <td>0</td>\n",
       "    </tr>\n",
       "    <tr>\n",
       "      <th>5498</th>\n",
       "      <td>4610</td>\n",
       "      <td>what day is the feast of st joseph 's ?</td>\n",
       "      <td>As the traditional holiday of the Apostles Ss ...</td>\n",
       "      <td>0</td>\n",
       "    </tr>\n",
       "    <tr>\n",
       "      <th>5499</th>\n",
       "      <td>7697</td>\n",
       "      <td>what are some chinese inventions</td>\n",
       "      <td>The invention of gunpowder by the 10th century...</td>\n",
       "      <td>0</td>\n",
       "    </tr>\n",
       "  </tbody>\n",
       "</table>\n",
       "<p>5500 rows × 4 columns</p>\n",
       "</div>"
      ],
      "text/plain": [
       "        ID                                    question  \\\n",
       "0     2788                who kill franz ferdinand ww1   \n",
       "1     8166               what is a medallion guarantee   \n",
       "2     4289   what does a vote to table a motion mean ?   \n",
       "3     8180  when was the lady gaga judas song released   \n",
       "4      725               How did Edgar Allan Poe die ?   \n",
       "...    ...                                         ...   \n",
       "5495  9015                what are the arb medications   \n",
       "5496   340         when was everybody hates chris made   \n",
       "5497  3596                   what is a lapping machine   \n",
       "5498  4610     what day is the feast of st joseph 's ?   \n",
       "5499  7697            what are some chinese inventions   \n",
       "\n",
       "                                                 answer  label  \n",
       "0     A plaque commemorating the location of the Sar...      0  \n",
       "1     Sample of a Medallion signature guarantee stampIn      0  \n",
       "2     The difference is the idea of what the table i...      0  \n",
       "3     `` Judas '' is a song by American recording ar...      1  \n",
       "4     His work forced him to move among several citi...      0  \n",
       "...                                                 ...    ...  \n",
       "5495       Arbitron , a radio audience research company      0  \n",
       "5496  The show is set between 1983 and 1987 ; howeve...      0  \n",
       "5497  Taken to a finer limit , this will produce a p...      0  \n",
       "5498  As the traditional holiday of the Apostles Ss ...      0  \n",
       "5499  The invention of gunpowder by the 10th century...      0  \n",
       "\n",
       "[5500 rows x 4 columns]"
      ]
     },
     "execution_count": 12,
     "metadata": {},
     "output_type": "execute_result"
    }
   ],
   "source": [
    "train"
   ]
  },
  {
   "cell_type": "code",
   "execution_count": 13,
   "id": "a9c9dfd6",
   "metadata": {},
   "outputs": [
    {
     "data": {
      "text/html": [
       "<div>\n",
       "<style scoped>\n",
       "    .dataframe tbody tr th:only-of-type {\n",
       "        vertical-align: middle;\n",
       "    }\n",
       "\n",
       "    .dataframe tbody tr th {\n",
       "        vertical-align: top;\n",
       "    }\n",
       "\n",
       "    .dataframe thead th {\n",
       "        text-align: right;\n",
       "    }\n",
       "</style>\n",
       "<table border=\"1\" class=\"dataframe\">\n",
       "  <thead>\n",
       "    <tr style=\"text-align: right;\">\n",
       "      <th></th>\n",
       "      <th>ID</th>\n",
       "      <th>question</th>\n",
       "      <th>answer</th>\n",
       "    </tr>\n",
       "  </thead>\n",
       "  <tbody>\n",
       "    <tr>\n",
       "      <th>0</th>\n",
       "      <td>917</td>\n",
       "      <td>when does the electoral college votes</td>\n",
       "      <td>The Twelfth Amendment specifies how a Presiden...</td>\n",
       "    </tr>\n",
       "    <tr>\n",
       "      <th>1</th>\n",
       "      <td>6587</td>\n",
       "      <td>what year lord of rings made ?</td>\n",
       "      <td>Tolkien 's work has been the subject of extens...</td>\n",
       "    </tr>\n",
       "    <tr>\n",
       "      <th>2</th>\n",
       "      <td>5227</td>\n",
       "      <td>what countries are under the buddhism religion</td>\n",
       "      <td>Estimate of the worldwide Buddhist population ...</td>\n",
       "    </tr>\n",
       "    <tr>\n",
       "      <th>3</th>\n",
       "      <td>4707</td>\n",
       "      <td>what does ( sic ) mean ?</td>\n",
       "      <td>Sic may also refer to:</td>\n",
       "    </tr>\n",
       "    <tr>\n",
       "      <th>4</th>\n",
       "      <td>700</td>\n",
       "      <td>when is it memorial day</td>\n",
       "      <td>In cases involving a family graveyard where re...</td>\n",
       "    </tr>\n",
       "    <tr>\n",
       "      <th>...</th>\n",
       "      <td>...</td>\n",
       "      <td>...</td>\n",
       "      <td>...</td>\n",
       "    </tr>\n",
       "    <tr>\n",
       "      <th>2936</th>\n",
       "      <td>5590</td>\n",
       "      <td>how many ports are there in networking</td>\n",
       "      <td>That is , data packets are routed across the n...</td>\n",
       "    </tr>\n",
       "    <tr>\n",
       "      <th>2937</th>\n",
       "      <td>5320</td>\n",
       "      <td>what genre is bloody beetroots</td>\n",
       "      <td>In fact , the only identifying public feature ...</td>\n",
       "    </tr>\n",
       "    <tr>\n",
       "      <th>2938</th>\n",
       "      <td>1664</td>\n",
       "      <td>where is green bay packers from</td>\n",
       "      <td>They are members of the North Division of the ...</td>\n",
       "    </tr>\n",
       "    <tr>\n",
       "      <th>2939</th>\n",
       "      <td>1245</td>\n",
       "      <td>when did the civil war start and where</td>\n",
       "      <td>The Union marshaled the resources and manpower...</td>\n",
       "    </tr>\n",
       "    <tr>\n",
       "      <th>2940</th>\n",
       "      <td>4278</td>\n",
       "      <td>what are the three ossicles</td>\n",
       "      <td>The term `` ossicles '' literally means `` tin...</td>\n",
       "    </tr>\n",
       "  </tbody>\n",
       "</table>\n",
       "<p>2941 rows × 3 columns</p>\n",
       "</div>"
      ],
      "text/plain": [
       "        ID                                        question  \\\n",
       "0      917           when does the electoral college votes   \n",
       "1     6587                  what year lord of rings made ?   \n",
       "2     5227  what countries are under the buddhism religion   \n",
       "3     4707                        what does ( sic ) mean ?   \n",
       "4      700                         when is it memorial day   \n",
       "...    ...                                             ...   \n",
       "2936  5590          how many ports are there in networking   \n",
       "2937  5320                  what genre is bloody beetroots   \n",
       "2938  1664                 where is green bay packers from   \n",
       "2939  1245          when did the civil war start and where   \n",
       "2940  4278                     what are the three ossicles   \n",
       "\n",
       "                                                 answer  \n",
       "0     The Twelfth Amendment specifies how a Presiden...  \n",
       "1     Tolkien 's work has been the subject of extens...  \n",
       "2     Estimate of the worldwide Buddhist population ...  \n",
       "3                                Sic may also refer to:  \n",
       "4     In cases involving a family graveyard where re...  \n",
       "...                                                 ...  \n",
       "2936  That is , data packets are routed across the n...  \n",
       "2937  In fact , the only identifying public feature ...  \n",
       "2938  They are members of the North Division of the ...  \n",
       "2939  The Union marshaled the resources and manpower...  \n",
       "2940  The term `` ossicles '' literally means `` tin...  \n",
       "\n",
       "[2941 rows x 3 columns]"
      ]
     },
     "execution_count": 13,
     "metadata": {},
     "output_type": "execute_result"
    }
   ],
   "source": [
    "test=pd.read_csv(TEST_DATA_FILE) \n",
    "test"
   ]
  },
  {
   "cell_type": "code",
   "execution_count": null,
   "id": "60f3fa25",
   "metadata": {},
   "outputs": [],
   "source": [
    "train.to_csv('train.csv',index=False)\n",
    "test.to_csv('test.csv',index=False)"
   ]
  },
  {
   "cell_type": "markdown",
   "id": "b05357f3",
   "metadata": {},
   "source": [
    "### Model Building"
   ]
  },
  {
   "cell_type": "code",
   "execution_count": null,
   "id": "2877f1aa",
   "metadata": {},
   "outputs": [],
   "source": [
    "# from sentence_transformers import SentenceTransformer\n",
    "# model = SentenceTransformer('model_name')"
   ]
  },
  {
   "cell_type": "code",
   "execution_count": 24,
   "id": "8f5d5987",
   "metadata": {},
   "outputs": [
    {
     "name": "stderr",
     "output_type": "stream",
     "text": [
      "Some weights of the model checkpoint at distilroberta-base were not used when initializing RobertaForSequenceClassification: ['lm_head.layer_norm.weight', 'lm_head.dense.bias', 'lm_head.decoder.weight', 'lm_head.dense.weight', 'lm_head.bias', 'lm_head.layer_norm.bias', 'roberta.pooler.dense.bias', 'roberta.pooler.dense.weight']\n",
      "- This IS expected if you are initializing RobertaForSequenceClassification from the checkpoint of a model trained on another task or with another architecture (e.g. initializing a BertForSequenceClassification model from a BertForPreTraining model).\n",
      "- This IS NOT expected if you are initializing RobertaForSequenceClassification from the checkpoint of a model that you expect to be exactly identical (initializing a BertForSequenceClassification model from a BertForSequenceClassification model).\n",
      "Some weights of RobertaForSequenceClassification were not initialized from the model checkpoint at distilroberta-base and are newly initialized: ['classifier.dense.weight', 'classifier.out_proj.bias', 'classifier.out_proj.weight', 'classifier.dense.bias']\n",
      "You should probably TRAIN this model on a down-stream task to be able to use it for predictions and inference.\n"
     ]
    },
    {
     "name": "stdout",
     "output_type": "stream",
     "text": [
      "2021-07-22 09:53:47 - Use pytorch device: cuda\n",
      "2021-07-22 09:53:48 - Warmup-steps: 138\n"
     ]
    },
    {
     "data": {
      "application/vnd.jupyter.widget-view+json": {
       "model_id": "b25819b4c75a4cc3aadf8c66ea2ec69e",
       "version_major": 2,
       "version_minor": 0
      },
      "text/plain": [
       "Epoch:   0%|          | 0/4 [00:00<?, ?it/s]"
      ]
     },
     "metadata": {},
     "output_type": "display_data"
    },
    {
     "data": {
      "application/vnd.jupyter.widget-view+json": {
       "model_id": "924a542595df4119ab812da15d4aaa43",
       "version_major": 2,
       "version_minor": 0
      },
      "text/plain": [
       "Iteration:   0%|          | 0/344 [00:00<?, ?it/s]"
      ]
     },
     "metadata": {},
     "output_type": "display_data"
    },
    {
     "name": "stdout",
     "output_type": "stream",
     "text": [
      "2021-07-22 09:55:53 - CEBinaryClassificationEvaluator: Evaluating the model on  dataset after epoch 0:\n",
      "2021-07-22 09:56:00 - Accuracy:           91.48\t(Threshold: 0.1238)\n",
      "2021-07-22 09:56:00 - F1:                 53.79\t(Threshold: 0.0591)\n",
      "2021-07-22 09:56:00 - Precision:          56.12\n",
      "2021-07-22 09:56:00 - Recall:             51.66\n",
      "2021-07-22 09:56:00 - Average Precision:  52.50\n",
      "\n",
      "2021-07-22 09:56:00 - Save model to output/continue_training-2021-07-22_09-53-45\n"
     ]
    },
    {
     "data": {
      "application/vnd.jupyter.widget-view+json": {
       "model_id": "59b8f24b23074a20bfab22d21febda5d",
       "version_major": 2,
       "version_minor": 0
      },
      "text/plain": [
       "Iteration:   0%|          | 0/344 [00:00<?, ?it/s]"
      ]
     },
     "metadata": {},
     "output_type": "display_data"
    },
    {
     "name": "stdout",
     "output_type": "stream",
     "text": [
      "2021-07-22 09:57:31 - CEBinaryClassificationEvaluator: Evaluating the model on  dataset after epoch 1:\n",
      "2021-07-22 09:57:38 - Accuracy:           91.99\t(Threshold: 0.5650)\n",
      "2021-07-22 09:57:38 - F1:                 58.04\t(Threshold: 0.2376)\n",
      "2021-07-22 09:57:38 - Precision:          61.48\n",
      "2021-07-22 09:57:38 - Recall:             54.97\n",
      "2021-07-22 09:57:38 - Average Precision:  59.98\n",
      "\n",
      "2021-07-22 09:57:38 - Save model to output/continue_training-2021-07-22_09-53-45\n"
     ]
    },
    {
     "data": {
      "application/vnd.jupyter.widget-view+json": {
       "model_id": "88412694e2874f5cb51a3b5d44305422",
       "version_major": 2,
       "version_minor": 0
      },
      "text/plain": [
       "Iteration:   0%|          | 0/344 [00:00<?, ?it/s]"
      ]
     },
     "metadata": {},
     "output_type": "display_data"
    },
    {
     "name": "stdout",
     "output_type": "stream",
     "text": [
      "2021-07-22 09:59:11 - CEBinaryClassificationEvaluator: Evaluating the model on  dataset after epoch 2:\n",
      "2021-07-22 09:59:18 - Accuracy:           91.84\t(Threshold: 0.8411)\n",
      "2021-07-22 09:59:18 - F1:                 58.70\t(Threshold: 0.6181)\n",
      "2021-07-22 09:59:18 - Precision:          64.80\n",
      "2021-07-22 09:59:18 - Recall:             53.64\n",
      "2021-07-22 09:59:18 - Average Precision:  59.74\n",
      "\n"
     ]
    },
    {
     "data": {
      "application/vnd.jupyter.widget-view+json": {
       "model_id": "50d116c7ecf644d68653e6d00f072899",
       "version_major": 2,
       "version_minor": 0
      },
      "text/plain": [
       "Iteration:   0%|          | 0/344 [00:00<?, ?it/s]"
      ]
     },
     "metadata": {},
     "output_type": "display_data"
    },
    {
     "name": "stdout",
     "output_type": "stream",
     "text": [
      "2021-07-22 10:00:48 - CEBinaryClassificationEvaluator: Evaluating the model on  dataset after epoch 3:\n",
      "2021-07-22 10:00:55 - Accuracy:           91.92\t(Threshold: 0.9314)\n",
      "2021-07-22 10:00:55 - F1:                 58.71\t(Threshold: 0.3486)\n",
      "2021-07-22 10:00:55 - Precision:          57.23\n",
      "2021-07-22 10:00:55 - Recall:             60.26\n",
      "2021-07-22 10:00:55 - Average Precision:  60.16\n",
      "\n",
      "2021-07-22 10:00:55 - Save model to output/continue_training-2021-07-22_09-53-45\n"
     ]
    }
   ],
   "source": [
    "from torch.utils.data import DataLoader\n",
    "import math\n",
    "from sentence_transformers import SentenceTransformer, LoggingHandler, losses, util, InputExample \n",
    "from sentence_transformers.cross_encoder import CrossEncoder\n",
    "from sentence_transformers.cross_encoder.evaluation import CEBinaryClassificationEvaluator\n",
    "import logging\n",
    "from datetime import datetime\n",
    "import os\n",
    "import gzip\n",
    "import csv\n",
    "\n",
    "#### Just some code to print debug information to stdout\n",
    "logging.basicConfig(format='%(asctime)s - %(message)s',\n",
    "                    datefmt='%Y-%m-%d %H:%M:%S',\n",
    "                    level=logging.INFO,\n",
    "                    handlers=[LoggingHandler()])\n",
    " \n",
    "train_batch_size = 16\n",
    "num_epochs = 4\n",
    "model_save_path = 'output/continue_training-'+datetime.now().strftime(\"%Y-%m-%d_%H-%M-%S\")\n",
    "\n",
    "\n",
    "# Pre-trained cross encoder\n",
    "model = CrossEncoder('distilroberta-base', num_labels=1) # For binary tasks and tasks with continious scores (like STS), we set num_labels=1\n",
    "\n",
    "# Convert the dataset to a DataLoader ready for training \n",
    "def create_examples(df):\n",
    "    samples = []\n",
    "    for index, row in df.iterrows():\n",
    "        samples.append(InputExample(texts=[row['question'], row['answer']], label=row['label'] )) \n",
    "    return samples\n",
    "\n",
    "\n",
    "train_samples = create_examples(train)\n",
    "dev_samples = create_examples(dev) \n",
    "train_dataloader = DataLoader(train_samples, shuffle=True, batch_size=train_batch_size)\n",
    " \n",
    "evaluator = CEBinaryClassificationEvaluator.from_input_examples(dev_samples)\n",
    "\n",
    "\n",
    "# Configure the training. We skip evaluation in this example\n",
    "warmup_steps = math.ceil(len(train_dataloader) * num_epochs * 0.1) #10% of train data for warm-up\n",
    "logging.info(\"Warmup-steps: {}\".format(warmup_steps))\n",
    "\n",
    "\n",
    "# Train the model\n",
    "model.fit(train_dataloader=train_dataloader,\n",
    "          evaluator=evaluator,\n",
    "          epochs=num_epochs,\n",
    "          evaluation_steps=1000,\n",
    "          warmup_steps=warmup_steps,\n",
    "          output_path=model_save_path)"
   ]
  },
  {
   "cell_type": "markdown",
   "id": "70f8019e",
   "metadata": {},
   "source": [
    "### Prediction"
   ]
  },
  {
   "cell_type": "code",
   "execution_count": null,
   "id": "2563faff",
   "metadata": {},
   "outputs": [],
   "source": [
    "##############################################################################\n",
    "#\n",
    "# Load the stored model and evaluate its performance on test dataset\n",
    "#\n",
    "##############################################################################\n",
    "\n",
    "model = CrossEncoder(model_save_path) \n",
    "# test_evaluator = CEBinaryClassificationEvaluator.from_input_examples(test_samples)\n",
    "# test_evaluator(model, output_path=model_save_path)"
   ]
  },
  {
   "cell_type": "code",
   "execution_count": 25,
   "id": "7734e6d3",
   "metadata": {},
   "outputs": [
    {
     "data": {
      "text/plain": [
       "['when does the electoral college votes',\n",
       " 'The Twelfth Amendment specifies how a President and Vice President are elected and requires each elector to cast one vote for President and another vote for Vice President .']"
      ]
     },
     "execution_count": 25,
     "metadata": {},
     "output_type": "execute_result"
    }
   ],
   "source": [
    "test_pairs = [[row['question'], row['answer']] for index, row in test.iterrows()]  \n",
    "test_pairs[0]"
   ]
  },
  {
   "cell_type": "code",
   "execution_count": 27,
   "id": "4ac6eb0a",
   "metadata": {},
   "outputs": [
    {
     "data": {
      "application/vnd.jupyter.widget-view+json": {
       "model_id": "47fcc410be94447ab902841588318c25",
       "version_major": 2,
       "version_minor": 0
      },
      "text/plain": [
       "Batches:   0%|          | 0/92 [00:00<?, ?it/s]"
      ]
     },
     "metadata": {},
     "output_type": "display_data"
    },
    {
     "data": {
      "text/plain": [
       "array([0.04703796, 0.00364479, 0.00433807, ..., 0.0059183 , 0.00444621,\n",
       "       0.30432755], dtype=float32)"
      ]
     },
     "execution_count": 27,
     "metadata": {},
     "output_type": "execute_result"
    }
   ],
   "source": [
    "preds = model.predict(test_pairs)\n",
    "preds"
   ]
  },
  {
   "cell_type": "markdown",
   "id": "70b2a2e7",
   "metadata": {},
   "source": [
    "Below function is used to predict on test dataset using trained model. It returns a list of predicted probabilities"
   ]
  },
  {
   "cell_type": "code",
   "execution_count": 54,
   "id": "954dd7dd",
   "metadata": {},
   "outputs": [],
   "source": [
    "# def predict(model, test_list):\n",
    "#     pred = []\n",
    "#     with torch.no_grad():\n",
    "#         for test_batch in test_list:\n",
    "#             model.eval()\n",
    "#             x = test_batch.text.cuda()\n",
    "#             pred += torch.sigmoid(model.forward(x).view(-1)).cpu().data.numpy().tolist()\n",
    "#     return pred"
   ]
  },
  {
   "cell_type": "code",
   "execution_count": 55,
   "id": "13b33f78",
   "metadata": {},
   "outputs": [],
   "source": [
    "# test_list = list(torchtext.data.BucketIterator(dataset=test,\n",
    "#                                     batch_size=batch_size,\n",
    "#                                     sort=False,\n",
    "#                                     train=False))"
   ]
  },
  {
   "cell_type": "code",
   "execution_count": 56,
   "id": "d3ca3eb8",
   "metadata": {},
   "outputs": [],
   "source": [
    "# preds = predict(model, test_list)"
   ]
  },
  {
   "cell_type": "markdown",
   "id": "fdedcde2",
   "metadata": {},
   "source": [
    "### Submit Results"
   ]
  },
  {
   "cell_type": "markdown",
   "id": "e4b1d9a4",
   "metadata": {},
   "source": [
    "Create a new dataframe for submission. The list of predicted probabilities are converted to labels using the pre-defined threshold of 0.15 (can be tuned for better performance). The list of labels is concatenated with the original sequential ID from the test file downloaded from Leaderboard, to generate the final submission\n",
    "\n",
    "For submission, follow these steps:\n",
    "1. Go to the folder where your notebook is in Sagemaker\n",
    "2. Donwload the file __test_submission_nlp2.csv__ to your local machine\n",
    "3. On NLP2 Leaderboard contest, select option __My Submissions\"__ and upload your file"
   ]
  },
  {
   "cell_type": "code",
   "execution_count": 29,
   "id": "a66c6eaf",
   "metadata": {},
   "outputs": [],
   "source": [
    "result_df = pd.DataFrame(columns=[\"ID\", \"relevance\"])\n",
    "result_df[\"ID\"] = test[\"ID\"].tolist()\n",
    "labels=[1 if pred>0.3486 else 0 for pred in preds]\n",
    "result_df[\"relevance\"] = labels\n",
    "result_df.to_csv(\"test_submission_nlp2.csv\", index=False)"
   ]
  },
  {
   "cell_type": "code",
   "execution_count": null,
   "id": "3b019c22",
   "metadata": {},
   "outputs": [],
   "source": []
  }
 ],
 "metadata": {
  "kernelspec": {
   "display_name": "conda_pytorch_p36",
   "language": "python",
   "name": "conda_pytorch_p36"
  },
  "language_info": {
   "codemirror_mode": {
    "name": "ipython",
    "version": 3
   },
   "file_extension": ".py",
   "mimetype": "text/x-python",
   "name": "python",
   "nbconvert_exporter": "python",
   "pygments_lexer": "ipython3",
   "version": "3.6.13"
  }
 },
 "nbformat": 4,
 "nbformat_minor": 5
}
