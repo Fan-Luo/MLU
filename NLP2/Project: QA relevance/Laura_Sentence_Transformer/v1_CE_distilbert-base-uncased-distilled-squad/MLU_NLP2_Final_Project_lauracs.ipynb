{
 "cells": [
  {
   "cell_type": "markdown",
   "id": "e6cbfd58",
   "metadata": {},
   "source": [
    "![MLU Logo](../images/MLU_Logo.png)"
   ]
  },
  {
   "cell_type": "markdown",
   "id": "b527ce40",
   "metadata": {},
   "source": [
    "# MLU-NLP2 Final Project"
   ]
  },
  {
   "cell_type": "markdown",
   "id": "7da56233",
   "metadata": {},
   "source": [
    "## Problem Statement\n",
    "The project focuses on answer selection and uses the WikiQA dataset. Each record in the dataset has a question, answer and relevance score. The relevance score is binary, 1/0 indicating whether the answer is relevant to the question. \n",
    "\n",
    "Each question can be repeated multiple times and can have multiple relevant answer statements. \n",
    "\n",
    "To make the problem less complex, we have considered only questions which have at least 1 relevant answer. This simplification results in train, validation and test datasets with 873, 126 and 243 questions respectively.\n",
    "\n",
    "## Project Objective\n",
    "\n",
    "In this notebook, you will start our jorney. It contains a baseline model that will give you a first performance score and ourse and all code necessary ready for your first submission.\n",
    "\n",
    "__IMPORTANT__ \n",
    "\n",
    "Make sure you submit this notebook to get to know better how Leaderboard works and, also, make sure your completion will be granted :) .\n",
    "\n",
    "### __Dataset:__\n",
    "The originial train and test datasets have questions for which there are no answers with relevance 1. To make the problem simpler, we have considered only questions which have atleast 1 answer with relevance score 1. This updated version of the datasets are used in the project\n",
    "\n",
    "### __Table of Contents__\n",
    "Here is the plan for this assignment.\n",
    "<p>\n",
    "<div class=\"lev1\">\n",
    "    <a href=\"#Reading the dataset\"><span class=\"toc-item-num\">1&nbsp;&nbsp;</span>\n",
    "        Reading the dataset\n",
    "    </a>\n",
    "</div>\n",
    "<div class=\"lev1\">\n",
    "    <a href=\"#Data-Preparation\"><span class=\"toc-item-num\">2&nbsp;&nbsp;</span>\n",
    "        Data Preparation\n",
    "    </a>\n",
    "</div>\n",
    "<div class=\"lev1\">\n",
    "    <a href=\"#Model-Building\"><span class=\"toc-item-num\">3&nbsp;&nbsp;</span>\n",
    "        Model Building\n",
    "    </a>\n",
    "</div>\n",
    "<div class=\"lev1\">\n",
    "    <a href=\"#Training\"><span class=\"toc-item-num\">4&nbsp;&nbsp;</span>\n",
    "        Training\n",
    "    </a>\n",
    "</div>\n",
    "<div class=\"lev1\">\n",
    "    <a href=\"#Prediction\"><span class=\"toc-item-num\">5&nbsp;&nbsp;</span>\n",
    "        Prediction\n",
    "    </a>\n",
    "</div>\n",
    "<div class=\"lev1\">\n",
    "    <a href=\"#Submit-Results\"><span class=\"toc-item-num\">6&nbsp;&nbsp;</span>\n",
    "        Submit Results\n",
    "    </a>\n",
    "</div>"
   ]
  },
  {
   "cell_type": "code",
   "execution_count": 1,
   "id": "8e45e20e",
   "metadata": {},
   "outputs": [],
   "source": [
    "#!pip install -U sentence-transformers\n"
   ]
  },
  {
   "cell_type": "code",
   "execution_count": 2,
   "id": "1314ac18",
   "metadata": {},
   "outputs": [
    {
     "name": "stderr",
     "output_type": "stream",
     "text": [
      "[nltk_data] Downloading package punkt to /home/ec2-user/nltk_data...\n",
      "[nltk_data]   Package punkt is already up-to-date!\n"
     ]
    },
    {
     "data": {
      "text/plain": [
       "True"
      ]
     },
     "execution_count": 2,
     "metadata": {},
     "output_type": "execute_result"
    }
   ],
   "source": [
    "import pandas as pd\n",
    "import boto3\n",
    "import os\n",
    "import numpy as np\n",
    "import torch\n",
    "from torch import nn\n",
    "from sklearn.metrics import f1_score\n",
    "from tqdm import tqdm, tqdm_notebook\n",
    "# import torchtext\n",
    "from nltk import word_tokenize\n",
    "import random\n",
    "from torch import optim\n",
    "import nltk\n",
    "nltk.download('punkt')"
   ]
  },
  {
   "cell_type": "markdown",
   "id": "0c11c19a",
   "metadata": {},
   "source": [
    "### Reading the dataset\n",
    "The datasets are in our MLU datalake and can be downloaded to your local instance here"
   ]
  },
  {
   "cell_type": "code",
   "execution_count": 3,
   "id": "3c1dc0a9",
   "metadata": {},
   "outputs": [],
   "source": [
    "# import the datasets\n",
    "bucketname = 'mlu-courses-datalake' \n",
    "s3 = boto3.resource('s3')\n",
    "\n",
    "s3.Bucket(bucketname).download_file('NLP2/data/training.csv', \n",
    "                                         './training.csv') \n",
    "s3.Bucket(bucketname).download_file('NLP2/data/public_test_features.csv', \n",
    "                                         './public_test_features.csv')\n",
    "s3.Bucket(bucketname).download_file('NLP2/data/glove.6B.100d.txt', \n",
    "                                         './glove.6B.100d.txt')"
   ]
  },
  {
   "cell_type": "code",
   "execution_count": 4,
   "id": "360b39af",
   "metadata": {},
   "outputs": [],
   "source": [
    "TRAIN_DATA_FILE ='./training.csv'\n",
    "TEST_DATA_FILE = './public_test_features.csv'\n",
    "GLOVE_DATA_FILE = './glove.6B.100d.txt'"
   ]
  },
  {
   "cell_type": "markdown",
   "id": "64f566ec",
   "metadata": {},
   "source": [
    "Below, we are combining question and answer in each row as 1 single text column for simplicity. Alternatively, we can run two parallel networks for question and answer, merge the output of the 2 networks and have a classification layer as output. You may choose to save the files for ease of use, in future steps."
   ]
  },
  {
   "cell_type": "code",
   "execution_count": 5,
   "id": "0d01885f",
   "metadata": {},
   "outputs": [],
   "source": [
    "train_original=pd.read_csv(TRAIN_DATA_FILE)\n",
    "train_original=train_original.rename(columns={'relevance':'label'}) \n",
    "train = train_original.iloc[:5500,:]\n",
    "dev = train_original.iloc[5500:,:]\n",
    "\n",
    "# train['text']=train[['question','answer']].apply(lambda row: '_'.join(row.values.astype(str)), axis=1)\n",
    "# test['text']=test[['question','answer']].apply(lambda row: '_'.join(row.values.astype(str)), axis=1)"
   ]
  },
  {
   "cell_type": "code",
   "execution_count": 6,
   "id": "5d2f9118",
   "metadata": {},
   "outputs": [
    {
     "data": {
      "text/html": [
       "<div>\n",
       "<style scoped>\n",
       "    .dataframe tbody tr th:only-of-type {\n",
       "        vertical-align: middle;\n",
       "    }\n",
       "\n",
       "    .dataframe tbody tr th {\n",
       "        vertical-align: top;\n",
       "    }\n",
       "\n",
       "    .dataframe thead th {\n",
       "        text-align: right;\n",
       "    }\n",
       "</style>\n",
       "<table border=\"1\" class=\"dataframe\">\n",
       "  <thead>\n",
       "    <tr style=\"text-align: right;\">\n",
       "      <th></th>\n",
       "      <th>ID</th>\n",
       "      <th>question</th>\n",
       "      <th>answer</th>\n",
       "      <th>label</th>\n",
       "    </tr>\n",
       "  </thead>\n",
       "  <tbody>\n",
       "    <tr>\n",
       "      <th>0</th>\n",
       "      <td>2788</td>\n",
       "      <td>who kill franz ferdinand ww1</td>\n",
       "      <td>A plaque commemorating the location of the Sar...</td>\n",
       "      <td>0</td>\n",
       "    </tr>\n",
       "    <tr>\n",
       "      <th>1</th>\n",
       "      <td>8166</td>\n",
       "      <td>what is a medallion guarantee</td>\n",
       "      <td>Sample of a Medallion signature guarantee stampIn</td>\n",
       "      <td>0</td>\n",
       "    </tr>\n",
       "    <tr>\n",
       "      <th>2</th>\n",
       "      <td>4289</td>\n",
       "      <td>what does a vote to table a motion mean ?</td>\n",
       "      <td>The difference is the idea of what the table i...</td>\n",
       "      <td>0</td>\n",
       "    </tr>\n",
       "    <tr>\n",
       "      <th>3</th>\n",
       "      <td>8180</td>\n",
       "      <td>when was the lady gaga judas song released</td>\n",
       "      <td>`` Judas '' is a song by American recording ar...</td>\n",
       "      <td>1</td>\n",
       "    </tr>\n",
       "    <tr>\n",
       "      <th>4</th>\n",
       "      <td>725</td>\n",
       "      <td>How did Edgar Allan Poe die ?</td>\n",
       "      <td>His work forced him to move among several citi...</td>\n",
       "      <td>0</td>\n",
       "    </tr>\n",
       "    <tr>\n",
       "      <th>...</th>\n",
       "      <td>...</td>\n",
       "      <td>...</td>\n",
       "      <td>...</td>\n",
       "      <td>...</td>\n",
       "    </tr>\n",
       "    <tr>\n",
       "      <th>5495</th>\n",
       "      <td>9015</td>\n",
       "      <td>what are the arb medications</td>\n",
       "      <td>Arbitron , a radio audience research company</td>\n",
       "      <td>0</td>\n",
       "    </tr>\n",
       "    <tr>\n",
       "      <th>5496</th>\n",
       "      <td>340</td>\n",
       "      <td>when was everybody hates chris made</td>\n",
       "      <td>The show is set between 1983 and 1987 ; howeve...</td>\n",
       "      <td>0</td>\n",
       "    </tr>\n",
       "    <tr>\n",
       "      <th>5497</th>\n",
       "      <td>3596</td>\n",
       "      <td>what is a lapping machine</td>\n",
       "      <td>Taken to a finer limit , this will produce a p...</td>\n",
       "      <td>0</td>\n",
       "    </tr>\n",
       "    <tr>\n",
       "      <th>5498</th>\n",
       "      <td>4610</td>\n",
       "      <td>what day is the feast of st joseph 's ?</td>\n",
       "      <td>As the traditional holiday of the Apostles Ss ...</td>\n",
       "      <td>0</td>\n",
       "    </tr>\n",
       "    <tr>\n",
       "      <th>5499</th>\n",
       "      <td>7697</td>\n",
       "      <td>what are some chinese inventions</td>\n",
       "      <td>The invention of gunpowder by the 10th century...</td>\n",
       "      <td>0</td>\n",
       "    </tr>\n",
       "  </tbody>\n",
       "</table>\n",
       "<p>5500 rows × 4 columns</p>\n",
       "</div>"
      ],
      "text/plain": [
       "        ID                                    question  \\\n",
       "0     2788                who kill franz ferdinand ww1   \n",
       "1     8166               what is a medallion guarantee   \n",
       "2     4289   what does a vote to table a motion mean ?   \n",
       "3     8180  when was the lady gaga judas song released   \n",
       "4      725               How did Edgar Allan Poe die ?   \n",
       "...    ...                                         ...   \n",
       "5495  9015                what are the arb medications   \n",
       "5496   340         when was everybody hates chris made   \n",
       "5497  3596                   what is a lapping machine   \n",
       "5498  4610     what day is the feast of st joseph 's ?   \n",
       "5499  7697            what are some chinese inventions   \n",
       "\n",
       "                                                 answer  label  \n",
       "0     A plaque commemorating the location of the Sar...      0  \n",
       "1     Sample of a Medallion signature guarantee stampIn      0  \n",
       "2     The difference is the idea of what the table i...      0  \n",
       "3     `` Judas '' is a song by American recording ar...      1  \n",
       "4     His work forced him to move among several citi...      0  \n",
       "...                                                 ...    ...  \n",
       "5495       Arbitron , a radio audience research company      0  \n",
       "5496  The show is set between 1983 and 1987 ; howeve...      0  \n",
       "5497  Taken to a finer limit , this will produce a p...      0  \n",
       "5498  As the traditional holiday of the Apostles Ss ...      0  \n",
       "5499  The invention of gunpowder by the 10th century...      0  \n",
       "\n",
       "[5500 rows x 4 columns]"
      ]
     },
     "execution_count": 6,
     "metadata": {},
     "output_type": "execute_result"
    }
   ],
   "source": [
    "train"
   ]
  },
  {
   "cell_type": "code",
   "execution_count": 7,
   "id": "eafa4fd4",
   "metadata": {},
   "outputs": [
    {
     "data": {
      "text/html": [
       "<div>\n",
       "<style scoped>\n",
       "    .dataframe tbody tr th:only-of-type {\n",
       "        vertical-align: middle;\n",
       "    }\n",
       "\n",
       "    .dataframe tbody tr th {\n",
       "        vertical-align: top;\n",
       "    }\n",
       "\n",
       "    .dataframe thead th {\n",
       "        text-align: right;\n",
       "    }\n",
       "</style>\n",
       "<table border=\"1\" class=\"dataframe\">\n",
       "  <thead>\n",
       "    <tr style=\"text-align: right;\">\n",
       "      <th></th>\n",
       "      <th>ID</th>\n",
       "      <th>question</th>\n",
       "      <th>answer</th>\n",
       "    </tr>\n",
       "  </thead>\n",
       "  <tbody>\n",
       "    <tr>\n",
       "      <th>0</th>\n",
       "      <td>917</td>\n",
       "      <td>when does the electoral college votes</td>\n",
       "      <td>The Twelfth Amendment specifies how a Presiden...</td>\n",
       "    </tr>\n",
       "    <tr>\n",
       "      <th>1</th>\n",
       "      <td>6587</td>\n",
       "      <td>what year lord of rings made ?</td>\n",
       "      <td>Tolkien 's work has been the subject of extens...</td>\n",
       "    </tr>\n",
       "    <tr>\n",
       "      <th>2</th>\n",
       "      <td>5227</td>\n",
       "      <td>what countries are under the buddhism religion</td>\n",
       "      <td>Estimate of the worldwide Buddhist population ...</td>\n",
       "    </tr>\n",
       "    <tr>\n",
       "      <th>3</th>\n",
       "      <td>4707</td>\n",
       "      <td>what does ( sic ) mean ?</td>\n",
       "      <td>Sic may also refer to:</td>\n",
       "    </tr>\n",
       "    <tr>\n",
       "      <th>4</th>\n",
       "      <td>700</td>\n",
       "      <td>when is it memorial day</td>\n",
       "      <td>In cases involving a family graveyard where re...</td>\n",
       "    </tr>\n",
       "    <tr>\n",
       "      <th>...</th>\n",
       "      <td>...</td>\n",
       "      <td>...</td>\n",
       "      <td>...</td>\n",
       "    </tr>\n",
       "    <tr>\n",
       "      <th>2936</th>\n",
       "      <td>5590</td>\n",
       "      <td>how many ports are there in networking</td>\n",
       "      <td>That is , data packets are routed across the n...</td>\n",
       "    </tr>\n",
       "    <tr>\n",
       "      <th>2937</th>\n",
       "      <td>5320</td>\n",
       "      <td>what genre is bloody beetroots</td>\n",
       "      <td>In fact , the only identifying public feature ...</td>\n",
       "    </tr>\n",
       "    <tr>\n",
       "      <th>2938</th>\n",
       "      <td>1664</td>\n",
       "      <td>where is green bay packers from</td>\n",
       "      <td>They are members of the North Division of the ...</td>\n",
       "    </tr>\n",
       "    <tr>\n",
       "      <th>2939</th>\n",
       "      <td>1245</td>\n",
       "      <td>when did the civil war start and where</td>\n",
       "      <td>The Union marshaled the resources and manpower...</td>\n",
       "    </tr>\n",
       "    <tr>\n",
       "      <th>2940</th>\n",
       "      <td>4278</td>\n",
       "      <td>what are the three ossicles</td>\n",
       "      <td>The term `` ossicles '' literally means `` tin...</td>\n",
       "    </tr>\n",
       "  </tbody>\n",
       "</table>\n",
       "<p>2941 rows × 3 columns</p>\n",
       "</div>"
      ],
      "text/plain": [
       "        ID                                        question  \\\n",
       "0      917           when does the electoral college votes   \n",
       "1     6587                  what year lord of rings made ?   \n",
       "2     5227  what countries are under the buddhism religion   \n",
       "3     4707                        what does ( sic ) mean ?   \n",
       "4      700                         when is it memorial day   \n",
       "...    ...                                             ...   \n",
       "2936  5590          how many ports are there in networking   \n",
       "2937  5320                  what genre is bloody beetroots   \n",
       "2938  1664                 where is green bay packers from   \n",
       "2939  1245          when did the civil war start and where   \n",
       "2940  4278                     what are the three ossicles   \n",
       "\n",
       "                                                 answer  \n",
       "0     The Twelfth Amendment specifies how a Presiden...  \n",
       "1     Tolkien 's work has been the subject of extens...  \n",
       "2     Estimate of the worldwide Buddhist population ...  \n",
       "3                                Sic may also refer to:  \n",
       "4     In cases involving a family graveyard where re...  \n",
       "...                                                 ...  \n",
       "2936  That is , data packets are routed across the n...  \n",
       "2937  In fact , the only identifying public feature ...  \n",
       "2938  They are members of the North Division of the ...  \n",
       "2939  The Union marshaled the resources and manpower...  \n",
       "2940  The term `` ossicles '' literally means `` tin...  \n",
       "\n",
       "[2941 rows x 3 columns]"
      ]
     },
     "execution_count": 7,
     "metadata": {},
     "output_type": "execute_result"
    }
   ],
   "source": [
    "test=pd.read_csv(TEST_DATA_FILE) \n",
    "test"
   ]
  },
  {
   "cell_type": "markdown",
   "id": "182b1dfa",
   "metadata": {},
   "source": [
    "### Model Building"
   ]
  },
  {
   "cell_type": "code",
   "execution_count": 8,
   "id": "2e4d7c64",
   "metadata": {},
   "outputs": [
    {
     "name": "stderr",
     "output_type": "stream",
     "text": [
      "Some weights of the model checkpoint at distilbert-base-uncased-distilled-squad were not used when initializing DistilBertForSequenceClassification: ['qa_outputs.bias', 'qa_outputs.weight']\n",
      "- This IS expected if you are initializing DistilBertForSequenceClassification from the checkpoint of a model trained on another task or with another architecture (e.g. initializing a BertForSequenceClassification model from a BertForPreTraining model).\n",
      "- This IS NOT expected if you are initializing DistilBertForSequenceClassification from the checkpoint of a model that you expect to be exactly identical (initializing a BertForSequenceClassification model from a BertForSequenceClassification model).\n",
      "Some weights of DistilBertForSequenceClassification were not initialized from the model checkpoint at distilbert-base-uncased-distilled-squad and are newly initialized: ['pre_classifier.weight', 'classifier.weight', 'classifier.bias', 'pre_classifier.bias']\n",
      "You should probably TRAIN this model on a down-stream task to be able to use it for predictions and inference.\n"
     ]
    },
    {
     "name": "stdout",
     "output_type": "stream",
     "text": [
      "2021-07-22 16:31:00 - Use pytorch device: cuda\n",
      "2021-07-22 16:31:01 - Warmup-steps: 138\n"
     ]
    },
    {
     "data": {
      "application/vnd.jupyter.widget-view+json": {
       "model_id": "980a463ff5c04ab4a7cc894c143cd44c",
       "version_major": 2,
       "version_minor": 0
      },
      "text/plain": [
       "Epoch:   0%|          | 0/4 [00:00<?, ?it/s]"
      ]
     },
     "metadata": {},
     "output_type": "display_data"
    },
    {
     "data": {
      "application/vnd.jupyter.widget-view+json": {
       "model_id": "a45659391b1f4ec2b88a3788037cc2a9",
       "version_major": 2,
       "version_minor": 0
      },
      "text/plain": [
       "Iteration:   0%|          | 0/344 [00:00<?, ?it/s]"
      ]
     },
     "metadata": {},
     "output_type": "display_data"
    },
    {
     "name": "stdout",
     "output_type": "stream",
     "text": [
      "2021-07-22 16:32:26 - CEBinaryClassificationEvaluator: Evaluating the model on  dataset after epoch 0:\n",
      "2021-07-22 16:32:33 - Accuracy:           93.31\t(Threshold: 0.3836)\n",
      "2021-07-22 16:32:33 - F1:                 64.86\t(Threshold: 0.3836)\n",
      "2021-07-22 16:32:33 - Precision:          77.78\n",
      "2021-07-22 16:32:33 - Recall:             55.63\n",
      "2021-07-22 16:32:33 - Average Precision:  64.46\n",
      "\n",
      "2021-07-22 16:32:33 - Save model to output/continue_training-2021-07-22_16-30-59\n"
     ]
    },
    {
     "data": {
      "application/vnd.jupyter.widget-view+json": {
       "model_id": "10d684fc55b9456ba884af6da2b72e7e",
       "version_major": 2,
       "version_minor": 0
      },
      "text/plain": [
       "Iteration:   0%|          | 0/344 [00:00<?, ?it/s]"
      ]
     },
     "metadata": {},
     "output_type": "display_data"
    },
    {
     "name": "stdout",
     "output_type": "stream",
     "text": [
      "2021-07-22 16:33:58 - CEBinaryClassificationEvaluator: Evaluating the model on  dataset after epoch 1:\n",
      "2021-07-22 16:34:04 - Accuracy:           93.24\t(Threshold: 0.7220)\n",
      "2021-07-22 16:34:04 - F1:                 65.72\t(Threshold: 0.4279)\n",
      "2021-07-22 16:34:04 - Precision:          70.45\n",
      "2021-07-22 16:34:04 - Recall:             61.59\n",
      "2021-07-22 16:34:04 - Average Precision:  66.41\n",
      "\n",
      "2021-07-22 16:34:04 - Save model to output/continue_training-2021-07-22_16-30-59\n"
     ]
    },
    {
     "data": {
      "application/vnd.jupyter.widget-view+json": {
       "model_id": "a7ada828e6a94027acf666aba4d72105",
       "version_major": 2,
       "version_minor": 0
      },
      "text/plain": [
       "Iteration:   0%|          | 0/344 [00:00<?, ?it/s]"
      ]
     },
     "metadata": {},
     "output_type": "display_data"
    },
    {
     "name": "stdout",
     "output_type": "stream",
     "text": [
      "2021-07-22 16:35:30 - CEBinaryClassificationEvaluator: Evaluating the model on  dataset after epoch 2:\n",
      "2021-07-22 16:35:37 - Accuracy:           93.09\t(Threshold: 0.9437)\n",
      "2021-07-22 16:35:37 - F1:                 65.37\t(Threshold: 0.0914)\n",
      "2021-07-22 16:35:37 - Precision:          63.92\n",
      "2021-07-22 16:35:37 - Recall:             66.89\n",
      "2021-07-22 16:35:37 - Average Precision:  64.52\n",
      "\n"
     ]
    },
    {
     "data": {
      "application/vnd.jupyter.widget-view+json": {
       "model_id": "d311094e943744eabaeca2756b63419e",
       "version_major": 2,
       "version_minor": 0
      },
      "text/plain": [
       "Iteration:   0%|          | 0/344 [00:00<?, ?it/s]"
      ]
     },
     "metadata": {},
     "output_type": "display_data"
    },
    {
     "name": "stdout",
     "output_type": "stream",
     "text": [
      "2021-07-22 16:37:00 - CEBinaryClassificationEvaluator: Evaluating the model on  dataset after epoch 3:\n",
      "2021-07-22 16:37:07 - Accuracy:           93.09\t(Threshold: 0.9501)\n",
      "2021-07-22 16:37:07 - F1:                 64.60\t(Threshold: 0.5917)\n",
      "2021-07-22 16:37:07 - Precision:          67.14\n",
      "2021-07-22 16:37:07 - Recall:             62.25\n",
      "2021-07-22 16:37:07 - Average Precision:  63.91\n",
      "\n"
     ]
    }
   ],
   "source": [
    "from torch.utils.data import DataLoader\n",
    "import math\n",
    "from sentence_transformers import SentenceTransformer, LoggingHandler, losses, util, InputExample \n",
    "from sentence_transformers.cross_encoder import CrossEncoder\n",
    "from sentence_transformers.cross_encoder.evaluation import CEBinaryClassificationEvaluator\n",
    "import logging\n",
    "from datetime import datetime\n",
    "import os\n",
    "import gzip\n",
    "import csv\n",
    "\n",
    "#### Just some code to print debug information to stdout\n",
    "logging.basicConfig(format='%(asctime)s - %(message)s',\n",
    "                    datefmt='%Y-%m-%d %H:%M:%S',\n",
    "                    level=logging.INFO,\n",
    "                    handlers=[LoggingHandler()])\n",
    " \n",
    "train_batch_size = 16\n",
    "num_epochs = 4\n",
    "model_save_path = 'output/continue_training-'+datetime.now().strftime(\"%Y-%m-%d_%H-%M-%S\")\n",
    "\n",
    "\n",
    "# Pre-trained cross encoder\n",
    "model = CrossEncoder('distilbert-base-uncased-distilled-squad', num_labels=1) # For binary tasks and tasks with continious scores (like STS), we set num_labels=1\n",
    "\n",
    "# Convert the dataset to a DataLoader ready for training \n",
    "def create_examples(df):\n",
    "    samples = []\n",
    "    for index, row in df.iterrows():\n",
    "        samples.append(InputExample(texts=[row['question'], row['answer']], label=row['label'] )) \n",
    "    return samples\n",
    "\n",
    "\n",
    "train_samples = create_examples(train)\n",
    "dev_samples = create_examples(dev) \n",
    "train_dataloader = DataLoader(train_samples, shuffle=True, batch_size=train_batch_size)\n",
    " \n",
    "evaluator = CEBinaryClassificationEvaluator.from_input_examples(dev_samples)\n",
    "\n",
    "\n",
    "# Configure the training. We skip evaluation in this example\n",
    "warmup_steps = math.ceil(len(train_dataloader) * num_epochs * 0.1) #10% of train data for warm-up\n",
    "logging.info(\"Warmup-steps: {}\".format(warmup_steps))\n",
    "\n",
    "\n",
    "# Train the model\n",
    "model.fit(train_dataloader=train_dataloader,\n",
    "          evaluator=evaluator,\n",
    "          epochs=num_epochs,\n",
    "          evaluation_steps=1000,\n",
    "          warmup_steps=warmup_steps,\n",
    "          output_path=model_save_path)"
   ]
  },
  {
   "cell_type": "markdown",
   "id": "dca383f2",
   "metadata": {},
   "source": [
    "### Prediction"
   ]
  },
  {
   "cell_type": "code",
   "execution_count": 9,
   "id": "3252fa7f",
   "metadata": {},
   "outputs": [
    {
     "name": "stdout",
     "output_type": "stream",
     "text": [
      "2021-07-22 16:37:07 - Use pytorch device: cuda\n"
     ]
    }
   ],
   "source": [
    "##############################################################################\n",
    "#\n",
    "# Load the stored model and evaluate its performance on test dataset\n",
    "#\n",
    "##############################################################################\n",
    "\n",
    "model = CrossEncoder(model_save_path) \n",
    "# test_evaluator = CEBinaryClassificationEvaluator.from_input_examples(test_samples)\n",
    "# test_evaluator(model, output_path=model_save_path)"
   ]
  },
  {
   "cell_type": "code",
   "execution_count": 10,
   "id": "7ce87c6e",
   "metadata": {},
   "outputs": [
    {
     "data": {
      "text/plain": [
       "['when does the electoral college votes',\n",
       " 'The Twelfth Amendment specifies how a President and Vice President are elected and requires each elector to cast one vote for President and another vote for Vice President .']"
      ]
     },
     "execution_count": 10,
     "metadata": {},
     "output_type": "execute_result"
    }
   ],
   "source": [
    "test_pairs = [[row['question'], row['answer']] for index, row in test.iterrows()]  \n",
    "test_pairs[0]"
   ]
  },
  {
   "cell_type": "code",
   "execution_count": 11,
   "id": "bd378fbe",
   "metadata": {},
   "outputs": [
    {
     "data": {
      "application/vnd.jupyter.widget-view+json": {
       "model_id": "a5b6034e479b40ecb7156091c1d9bc78",
       "version_major": 2,
       "version_minor": 0
      },
      "text/plain": [
       "Batches:   0%|          | 0/92 [00:00<?, ?it/s]"
      ]
     },
     "metadata": {},
     "output_type": "display_data"
    },
    {
     "data": {
      "text/plain": [
       "array([0.05267958, 0.01043369, 0.01169606, ..., 0.01145452, 0.01000954,\n",
       "       0.01304464], dtype=float32)"
      ]
     },
     "execution_count": 11,
     "metadata": {},
     "output_type": "execute_result"
    }
   ],
   "source": [
    "preds = model.predict(test_pairs)\n",
    "preds"
   ]
  },
  {
   "cell_type": "markdown",
   "id": "90c487d2",
   "metadata": {},
   "source": [
    "### Submit Results"
   ]
  },
  {
   "cell_type": "markdown",
   "id": "6a8e034b",
   "metadata": {},
   "source": [
    "Create a new dataframe for submission. The list of predicted probabilities are converted to labels using the pre-defined threshold of 0.15 (can be tuned for better performance). The list of labels is concatenated with the original sequential ID from the test file downloaded from Leaderboard, to generate the final submission\n",
    "\n",
    "For submission, follow these steps:\n",
    "1. Go to the folder where your notebook is in Sagemaker\n",
    "2. Donwload the file __test_submission_nlp2.csv__ to your local machine\n",
    "3. On NLP2 Leaderboard contest, select option __My Submissions\"__ and upload your file"
   ]
  },
  {
   "cell_type": "code",
   "execution_count": 13,
   "id": "7d804cf9",
   "metadata": {},
   "outputs": [],
   "source": [
    "result_df = pd.DataFrame(columns=[\"ID\", \"relevance\"])\n",
    "result_df[\"ID\"] = test[\"ID\"].tolist()\n",
    "labels=[1 if pred>0.5917 else 0 for pred in preds]\n",
    "result_df[\"relevance\"] = labels\n",
    "result_df.to_csv(\"test_submission_nlp2.csv\", index=False)"
   ]
  },
  {
   "cell_type": "code",
   "execution_count": null,
   "id": "d48d922e",
   "metadata": {},
   "outputs": [],
   "source": []
  }
 ],
 "metadata": {
  "kernelspec": {
   "display_name": "conda_pytorch_p36",
   "language": "python",
   "name": "conda_pytorch_p36"
  },
  "language_info": {
   "codemirror_mode": {
    "name": "ipython",
    "version": 3
   },
   "file_extension": ".py",
   "mimetype": "text/x-python",
   "name": "python",
   "nbconvert_exporter": "python",
   "pygments_lexer": "ipython3",
   "version": "3.6.13"
  }
 },
 "nbformat": 4,
 "nbformat_minor": 5
}
